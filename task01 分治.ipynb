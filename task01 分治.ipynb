{
 "cells": [
  {
   "cell_type": "markdown",
   "metadata": {},
   "source": [
    "## 50. Pow(x, n)"
   ]
  },
  {
   "cell_type": "markdown",
   "metadata": {},
   "source": [
    "实现 pow(x, n) ，即计算 x 的 n 次幂函数。\n",
    "\n",
    "示例 1:\n",
    "\n",
    "输入: 2.00000, 10\n",
    "输出: 1024.00000\n",
    "示例 2:\n",
    "\n",
    "输入: 2.10000, 3\n",
    "输出: 9.26100\n",
    "示例 3:\n",
    "\n",
    "输入: 2.00000, -2\n",
    "输出: 0.25000\n",
    "解释: 2-2 = 1/22 = 1/4 = 0.25\n",
    "说明:\n",
    "\n",
    "-100.0 < x < 100.0\n",
    "n 是 32 位有符号整数，其数值范围是 [−231, 231 − 1] 。"
   ]
  },
  {
   "cell_type": "markdown",
   "metadata": {},
   "source": [
    "考点：1.能否实现logn复杂度的算法  \n",
    "2.能否考虑所有特殊测试数据"
   ]
  },
  {
   "cell_type": "markdown",
   "metadata": {},
   "source": [
    "1.暴力解法"
   ]
  },
  {
   "cell_type": "code",
   "execution_count": 89,
   "metadata": {},
   "outputs": [],
   "source": [
    "# class Solution(object):\n",
    "#     def myPow(self, x, n):\n",
    "#         \"\"\"\n",
    "#         :type x: float\n",
    "#         :type n: int\n",
    "#         :rtype: float\n",
    "#         \"\"\"\n",
    "# #         if -2 ** 31 < n < 2 ** 31 - 1:\n",
    "#         if n < 0:\n",
    "#             x=1/x\n",
    "#             n = -n\n",
    "#         res = 1\n",
    "#         for i in range(1,n+1):\n",
    "#             res = res*x\n",
    "#         return res"
   ]
  },
  {
   "cell_type": "markdown",
   "metadata": {},
   "source": [
    "2.分治法"
   ]
  },
  {
   "cell_type": "code",
   "execution_count": 90,
   "metadata": {},
   "outputs": [],
   "source": [
    "class Solution(object):\n",
    "    def myPowHelper(self,x,n):\n",
    "        if n == 1:\n",
    "            return x\n",
    "        if n % 2 != 0:\n",
    "            half = self.myPowHelper(x,n//2)\n",
    "            return half*half*x\n",
    "        else:\n",
    "            half = self.myPowHelper(x,n//2)\n",
    "            return half*half\n",
    "    def myPow(self, x, n):\n",
    "        \"\"\"\n",
    "        :type x: float\n",
    "        :type n: int\n",
    "        :rtype: float\n",
    "        \"\"\"\n",
    "        if n == 0 or x == 1:\n",
    "            return 1\n",
    "        if n < 0:\n",
    "            return 1/self.myPowHelper(x,abs(n))\n",
    "        else:\n",
    "            return self.myPowHelper(x,n)\n",
    "   "
   ]
  },
  {
   "cell_type": "code",
   "execution_count": 91,
   "metadata": {},
   "outputs": [
    {
     "data": {
      "text/plain": [
       "2"
      ]
     },
     "execution_count": 91,
     "metadata": {},
     "output_type": "execute_result"
    }
   ],
   "source": [
    "5//2"
   ]
  },
  {
   "cell_type": "code",
   "execution_count": 92,
   "metadata": {},
   "outputs": [
    {
     "data": {
      "text/plain": [
       "0.0"
      ]
     },
     "execution_count": 92,
     "metadata": {},
     "output_type": "execute_result"
    }
   ],
   "source": [
    "# 0.00001\n",
    "# 2147483647\n",
    "a = Solution()\n",
    "a.myPow(0.00001,2147483647)\n",
    "# a.myPow(2,1)"
   ]
  },
  {
   "cell_type": "markdown",
   "metadata": {},
   "source": [
    "- 递归函数：简单的来说，在使用这个函数的时候，函数里面再次调用它自己，这就是递归函数"
   ]
  },
  {
   "cell_type": "code",
   "execution_count": 93,
   "metadata": {},
   "outputs": [],
   "source": [
    "def fool(x):\n",
    "    print(x)\n",
    "    x = x + 1\n",
    "    fool(x)  "
   ]
  },
  {
   "cell_type": "code",
   "execution_count": 94,
   "metadata": {},
   "outputs": [],
   "source": [
    "# fool(1)"
   ]
  },
  {
   "cell_type": "code",
   "execution_count": 95,
   "metadata": {},
   "outputs": [],
   "source": [
    "# maximum recursion depth exceeded in comparison\n",
    "# 比较中超过了最大递归深度"
   ]
  },
  {
   "cell_type": "markdown",
   "metadata": {},
   "source": [
    "- 时间复杂度  \n",
    "O（1）< O（logn）< O（n）< O（n^2）"
   ]
  },
  {
   "cell_type": "markdown",
   "metadata": {},
   "source": [
    "## 53. 最大子序和"
   ]
  },
  {
   "cell_type": "markdown",
   "metadata": {},
   "source": [
    "给定一个整数数组 nums ，找到一个具有最大和的连续子数组（子数组最少包含一个元素），返回其最大和。\n",
    "\n",
    "示例:\n",
    "\n",
    "输入: [-2,1,-3,4,-1,2,1,-5,4]\n",
    "输出: 6\n",
    "解释: 连续子数组 [4,-1,2,1] 的和最大，为 6。\n"
   ]
  },
  {
   "cell_type": "markdown",
   "metadata": {},
   "source": [
    "解题思路：\n",
    "dp[i]代表的是前ii个元素所组成的连续子数组的最大和\n",
    "\n",
    "它的状态方程可以理解成，如果dp[i-1]<=0dp[i−1]<=0（前i-1i−1个元素对我们后面没有正的贡献），所以dp[i]=nums[i]dp[i]=nums[i],否则，我们需要把正贡献加到后面去，也就是dp[i]=dp[i-1]+nums[i]dp[i]=dp[i−1]+nums[i]\n",
    "\n",
    "最后返回max(dp)max(dp)\n"
   ]
  },
  {
   "cell_type": "markdown",
   "metadata": {},
   "source": [
    "动态规划思路："
   ]
  },
  {
   "cell_type": "code",
   "execution_count": 86,
   "metadata": {},
   "outputs": [],
   "source": [
    "class Solution:\n",
    "    def maxSubArray(self, nums):\n",
    "        dp=[0]*(len(nums))\n",
    "        dp[0]=nums[0]\n",
    "        for i in range(1,len(nums)):\n",
    "            if dp[i-1]<=0:\n",
    "                dp[i]=nums[i]\n",
    "            else:\n",
    "                dp[i]=dp[i-1]+nums[i]\n",
    "        return max(dp)"
   ]
  },
  {
   "cell_type": "markdown",
   "metadata": {},
   "source": [
    "## 169. 多数元素"
   ]
  },
  {
   "cell_type": "markdown",
   "metadata": {},
   "source": [
    "给定一个大小为 n 的数组，找到其中的多数元素。多数元素是指在数组中出现次数大于 ⌊ n/2 ⌋ 的元素。\n",
    "\n",
    "你可以假设数组是非空的，并且给定的数组总是存在多数元素。"
   ]
  },
  {
   "cell_type": "raw",
   "metadata": {},
   "source": [
    "示例 1:\n",
    "\n",
    "输入: [3,2,3]\n",
    "输出: 3\n",
    "示例 2:\n",
    "\n",
    "输入: [2,2,1,1,1,2,2]\n",
    "输出: 2"
   ]
  },
  {
   "cell_type": "markdown",
   "metadata": {},
   "source": [
    "最简单思路找众数（统计学）："
   ]
  },
  {
   "cell_type": "code",
   "execution_count": 96,
   "metadata": {},
   "outputs": [],
   "source": [
    "class Solution:\n",
    "    def majorityElement(self, nums):\n",
    "        nums.sort()\n",
    "        return nums[len(nums)//2]"
   ]
  },
  {
   "cell_type": "markdown",
   "metadata": {},
   "source": [
    "分支法："
   ]
  },
  {
   "cell_type": "code",
   "execution_count": 97,
   "metadata": {},
   "outputs": [],
   "source": [
    "class Solution:\n",
    "    def majorityElement(self, nums):\n",
    "        return self.findNum(nums)\n",
    "        \n",
    "    def findNum(self, nums):\n",
    "        if len(nums) == 1: return nums[0]\n",
    "        mid = len(nums) // 2\n",
    "        left_num = self.findNum(nums[0:mid])\n",
    "        right_num = self.findNum(nums[mid:])\n",
    "        if left_num != right_num:\n",
    "            return left_num if nums.count(left_num) >= nums.count(right_num) else right_num\n",
    "        else:\n",
    "            return left_num"
   ]
  },
  {
   "cell_type": "code",
   "execution_count": null,
   "metadata": {},
   "outputs": [],
   "source": []
  },
  {
   "cell_type": "code",
   "execution_count": null,
   "metadata": {},
   "outputs": [],
   "source": []
  },
  {
   "cell_type": "code",
   "execution_count": null,
   "metadata": {},
   "outputs": [],
   "source": []
  }
 ],
 "metadata": {
  "kernelspec": {
   "display_name": "Python 3",
   "language": "python",
   "name": "python3"
  },
  "language_info": {
   "codemirror_mode": {
    "name": "ipython",
    "version": 3
   },
   "file_extension": ".py",
   "mimetype": "text/x-python",
   "name": "python",
   "nbconvert_exporter": "python",
   "pygments_lexer": "ipython3",
   "version": "3.6.5"
  }
 },
 "nbformat": 4,
 "nbformat_minor": 2
}
