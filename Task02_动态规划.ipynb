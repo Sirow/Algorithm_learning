{
 "cells": [
  {
   "cell_type": "markdown",
   "metadata": {},
   "source": [
    "5. 最长回文子串"
   ]
  },
  {
   "cell_type": "markdown",
   "metadata": {},
   "source": [
    "给定一个字符串 s，找到 s 中最长的回文子串。你可以假设 s 的最大长度为 1000。\n",
    "\n",
    "示例 1：\n",
    "\n",
    "输入: \"babad\"\n",
    "输出: \"bab\"\n",
    "注意: \"aba\" 也是一个有效答案。\n",
    "示例 2：\n",
    "\n",
    "输入: \"cbbd\"\n",
    "输出: \"bb\"\n"
   ]
  },
  {
   "cell_type": "markdown",
   "metadata": {},
   "source": [
    "解法：两种方法暴力和动态规划"
   ]
  },
  {
   "cell_type": "markdown",
   "metadata": {},
   "source": [
    "动态规划："
   ]
  },
  {
   "cell_type": "markdown",
   "metadata": {},
   "source": [
    "判断的回文的条件：\n",
    "一、开始字符与结束字符一样（大前提，代表有可能是回文）\n",
    "1. i与j之前最多只有一个字符的时候，也就是子串长度最多为3的时候，这是因为开始字符与结束字符一样，而且最多中间只有一个字符，所以肯定是回文（例如，bad，bb，b）\n",
    "2. 就向图上箭头所指，当长度大于3时，该字串是不是回文取决于dp[i + 1][j - 1](这是意思是说开始字符的下标是i + 1，结束字符下标是j - 1)（例如，cbabc，已经知道c（下标i）和c（下标j）一样了，所以这个字符串是不是回文就要取决于bab是不是回文，b的下标就是i + 1）\n",
    "只要大前提下1、2中满足一个条件就是回文\n",
    "最后在判断每次是回文的时候，把最长长度的子串保存就可，最后输出结果"
   ]
  },
  {
   "cell_type": "code",
   "execution_count": 2,
   "metadata": {},
   "outputs": [],
   "source": [
    "class Solution:\n",
    "    def longestPalindrome(self, s: str) -> str:\n",
    "        动态规划\n",
    "        result = ''\n",
    "        dp = [[False] * len(s) for _ in range(len(s))]\n",
    "        max_len = float(\"-inf\")\n",
    "        for j in range(len(s)):\n",
    "            for i in range(j + 1):\n",
    "                if s[j] == s[i] and (j - i < 2 or dp[i + 1][j - 1]):\n",
    "                    dp[i][j] = True\n",
    "                if dp[i][j] and j - i + 1 > max_len:\n",
    "                    result = s[i: j + 1]\n",
    "                    max_len = j - i + 1\n",
    "        return result\n"
   ]
  },
  {
   "cell_type": "markdown",
   "metadata": {},
   "source": [
    "72. 编辑距离"
   ]
  },
  {
   "cell_type": "markdown",
   "metadata": {},
   "source": [
    "给你两个单词 word1 和 word2，请你计算出将 word1 转换成 word2 所使用的最少操作数 。\n",
    "\n",
    "你可以对一个单词进行如下三种操作：\n",
    "\n",
    "插入一个字符\n",
    "删除一个字符\n",
    "替换一个字符\n",
    " \n",
    "\n",
    "示例 1：\n",
    "\n",
    "输入：word1 = \"horse\", word2 = \"ros\"\n",
    "输出：3\n",
    "解释：\n",
    "horse -> rorse (将 'h' 替换为 'r')\n",
    "rorse -> rose (删除 'r')\n",
    "rose -> ros (删除 'e')"
   ]
  },
  {
   "cell_type": "markdown",
   "metadata": {},
   "source": [
    "思路：\n",
    "理解 word1 上的删除等价 word2 上的增加, word1 上的增加等价于 word2 上的删除\n",
    "2维的 dp array 中某一点 dp[i][j] 的意义: word1[ : i] 到 word[ : j] 转换所需要的最小的数目\n",
    "不太需要关注具体进行了删除、增加还是替换操作，而是专注于 a 状态到 b 状态所需要的步数"
   ]
  },
  {
   "cell_type": "code",
   "execution_count": 5,
   "metadata": {},
   "outputs": [],
   "source": [
    "class Solution:\n",
    "    def minDistance(self, word1: str, word2: str) -> int:\n",
    "        m = len(word1)\n",
    "        n = len(word2)\n",
    "        dp = [[float('inf') for _ in range(n + 1)] for _ in range(m + 1)]\n",
    "        # 初始化\n",
    "        for i in range(m + 1):\n",
    "            dp[i][0] = i\n",
    "        for i in range(n + 1):\n",
    "            dp[0][i] = i\n",
    "        # 状态转移\n",
    "        # i , j 代表 word1, word2 对应位置的 index\n",
    "        for i in range(1, m + 1):\n",
    "            for j in range(1, n + 1):\n",
    "                # 如果word1[:i][-1]==word2[:j][-1]\n",
    "                if word1[i - 1] == word2[j - 1]:\n",
    "                    dp[i][j] = dp[i - 1][j - 1]\n",
    "                # 否则从三种状态中选一个最小的然后 +1\n",
    "                else:\n",
    "                    dp[i][j] = min(dp[i - 1][j - 1], min(dp[i - 1][j], dp[i][j - 1])) + 1\n",
    "        return dp[m][n]\n"
   ]
  },
  {
   "cell_type": "markdown",
   "metadata": {},
   "source": [
    "198. 打家劫舍"
   ]
  },
  {
   "cell_type": "markdown",
   "metadata": {},
   "source": [
    "你是一个专业的小偷，计划偷窃沿街的房屋。每间房内都藏有一定的现金，影响你偷窃的唯一制约因素就是相邻的房屋装有相互连通的防盗系统，如果两间相邻的房屋在同一晚上被小偷闯入，系统会自动报警。\n",
    "\n",
    "给定一个代表每个房屋存放金额的非负整数数组，计算你 不触动警报装置的情况下 ，一夜之内能够偷窃到的最高金额。\n",
    "\n",
    " \n",
    "\n",
    "示例 1：\n",
    "\n",
    "输入：[1,2,3,1]\n",
    "输出：4\n",
    "解释：偷窃 1 号房屋 (金额 = 1) ，然后偷窃 3 号房屋 (金额 = 3)。\n",
    "     偷窃到的最高金额 = 1 + 3 = 4 。\n",
    "示例 2：\n",
    "\n",
    "输入：[2,7,9,3,1]\n",
    "输出：12\n",
    "解释：偷窃 1 号房屋 (金额 = 2), 偷窃 3 号房屋 (金额 = 9)，接着偷窃 5 号房屋 (金额 = 1)。\n",
    "     偷窃到的最高金额 = 2 + 9 + 1 = 12 。\n"
   ]
  },
  {
   "cell_type": "markdown",
   "metadata": {},
   "source": [
    "思路：\n",
    "一开始以为是奇数偶数索引和大小对比，后来发现想简单了，实际上状态转移是f(n)=max(nums[n]+nums[n-2], nums[n]+nums[n-3])，  \n",
    "每一步要达到最大可能和前两步元素的最大值或者前三步元素的最大值相关，有人会问会不会和前四步最大值相关，答案是不会，  \n",
    "因为前四步的值已经和前两步的值合并了，状态转移仅横跨两步。\n"
   ]
  },
  {
   "cell_type": "code",
   "execution_count": 7,
   "metadata": {},
   "outputs": [],
   "source": [
    "class Solution:\n",
    "    def rob(self, nums):\n",
    "        if len(nums) == 0:\n",
    "            return 0\n",
    "        elif len(nums) == 1:\n",
    "            return nums[0]\n",
    "        elif len(nums) == 2:\n",
    "            return max(nums[-1], nums[-2])\n",
    "\n",
    "        nums[2] += nums[0]   \n",
    "        for j in range(3, len(nums)):\n",
    "            nums[j] = max(nums[j] + nums[j-2], nums[j] + nums[j-3])\n",
    "        \n",
    "        return max(nums[-2], nums[-1])"
   ]
  },
  {
   "cell_type": "markdown",
   "metadata": {},
   "source": [
    "213. 打家劫舍 II"
   ]
  },
  {
   "cell_type": "markdown",
   "metadata": {},
   "source": [
    "你是一个专业的小偷，计划偷窃沿街的房屋，每间房内都藏有一定的现金。这个地方所有的房屋都围成一圈，这意味着第一个房屋和最后一个房屋是紧挨着的。同时，相邻的房屋装有相互连通的防盗系统，如果两间相邻的房屋在同一晚上被小偷闯入，系统会自动报警。\n",
    "\n",
    "给定一个代表每个房屋存放金额的非负整数数组，计算你在不触动警报装置的情况下，能够偷窃到的最高金额。\n",
    "\n",
    "示例 1:\n",
    "\n",
    "输入: [2,3,2]\n",
    "输出: 3\n",
    "解释: 你不能先偷窃 1 号房屋（金额 = 2），然后偷窃 3 号房屋（金额 = 2）, 因为他们是相邻的。\n",
    "示例 2:\n",
    "\n",
    "输入: [1,2,3,1]\n",
    "输出: 4\n",
    "解释: 你可以先偷窃 1 号房屋（金额 = 1），然后偷窃 3 号房屋（金额 = 3）。\n",
    "     偷窃到的最高金额 = 1 + 3 = 4 。\n"
   ]
  },
  {
   "cell_type": "markdown",
   "metadata": {},
   "source": [
    "思路：此题是 198. 打家劫舍 的拓展版： 唯一的区别是此题中的房间是环状排列的（即首尾相接），而 198.198. 题中的房间是单排排列的；而这也是此题的难点。\n",
    "\n",
    "环状排列意味着第一个房子和最后一个房子中只能选择一个偷窃，因此可以把此环状排列房间问题约化为两个单排排列房间子问题：\n",
    "\n",
    "1.在不偷窃第一个房子的情况下（即 nums[1:]nums[1:]），最大金额是 p_1p \n",
    "\n",
    "2.在不偷窃最后一个房子的情况下（即 nums[:n-1]nums[:n−1]），最大金额是 p_2p \n",
    "\n",
    "综合偷窃最大金额： 为以上两种情况的较大值，即 max(p1,p2)max(p1,p2) 。\n"
   ]
  },
  {
   "cell_type": "code",
   "execution_count": 8,
   "metadata": {},
   "outputs": [],
   "source": [
    "class Solution:\n",
    "    def rob(self, nums: [int]) -> int:\n",
    "        def my_rob(nums):\n",
    "            cur, pre = 0, 0\n",
    "            for num in nums:\n",
    "                cur, pre = max(pre + num, cur), cur\n",
    "            return cur\n",
    "        return max(my_rob(nums[:-1]),my_rob(nums[1:])) if len(nums) != 1 else nums[0]"
   ]
  },
  {
   "cell_type": "markdown",
   "metadata": {},
   "source": [
    "516. 最长回文子序列"
   ]
  },
  {
   "cell_type": "markdown",
   "metadata": {},
   "source": [
    "给定一个字符串 s ，找到其中最长的回文子序列，并返回该序列的长度。可以假设 s 的最大长度为 1000 。\n",
    "\n",
    "示例 1:\n",
    "输入:\n",
    "\n",
    "\"bbbab\""
   ]
  },
  {
   "cell_type": "code",
   "execution_count": 9,
   "metadata": {},
   "outputs": [],
   "source": [
    "class Solution:\n",
    "    def longestPalindromeSubseq(self, s: str) -> int:\n",
    "        n = len(s)\n",
    "        maxL = -1\n",
    "        dp = [[0]*n for _ in range(n)]\n",
    "\n",
    "        for i in range(n):\n",
    "            dp[i][i] = 1\n",
    "        \n",
    "        for i in range(n-1, -1, -1):\n",
    "            for j in range(i+1, n):\n",
    "                if s[i] == s[j]:\n",
    "                    dp[i][j] = dp[i+1][j-1] + 2\n",
    "                else:\n",
    "                    dp[i][j] = max(dp[i][j-1], dp[i+1][j])\n",
    "        \n",
    "        return dp[0][n-1]"
   ]
  },
  {
   "cell_type": "markdown",
   "metadata": {},
   "source": [
    "674. 最长连续递增序列"
   ]
  },
  {
   "cell_type": "markdown",
   "metadata": {},
   "source": [
    "给定一个未经排序的整数数组，找到最长且连续的的递增序列，并返回该序列的长度。\n",
    "\n",
    " \n",
    "\n",
    "示例 1:\n",
    "\n",
    "输入: [1,3,5,4,7] \n",
    "输出: 3 \n",
    "解释: 最长连续递增序列是 [1,3,5], 长度为3。  \n",
    "尽管 [1,3,5,7] 也是升序的子序列, 但它不是连续的，因为5和7在原数组里被4隔开。   "
   ]
  },
  {
   "cell_type": "markdown",
   "metadata": {},
   "source": [
    "思路：动态规划  \n",
    "dp[i]：表示第i个元素，它的递增元素的个数。比如[1，3，5 ]元素3 从1递增到3 递增元素个数是2,dp[1]=2  \n",
    "初始化 dp=[1]*n  \n",
    "后比较   "
   ]
  },
  {
   "cell_type": "code",
   "execution_count": 15,
   "metadata": {},
   "outputs": [],
   "source": [
    "class Solution:\n",
    "    def findLengthOfLCIS(self, nums):\n",
    "        n=len(nums)\n",
    "        if not nums or n<0:\n",
    "            return 0\n",
    "        dp=[1]*n\n",
    "        for i in range(1,n):\n",
    "            if nums[i]>nums[i-1]:\n",
    "               dp[i]=dp[i-1]+1\n",
    "        return max(dp)"
   ]
  },
  {
   "cell_type": "code",
   "execution_count": null,
   "metadata": {},
   "outputs": [],
   "source": []
  }
 ],
 "metadata": {
  "kernelspec": {
   "display_name": "Python 3",
   "language": "python",
   "name": "python3"
  },
  "language_info": {
   "codemirror_mode": {
    "name": "ipython",
    "version": 3
   },
   "file_extension": ".py",
   "mimetype": "text/x-python",
   "name": "python",
   "nbconvert_exporter": "python",
   "pygments_lexer": "ipython3",
   "version": "3.6.5"
  }
 },
 "nbformat": 4,
 "nbformat_minor": 2
}
