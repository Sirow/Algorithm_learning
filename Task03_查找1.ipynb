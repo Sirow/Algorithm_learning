{
 "cells": [
  {
   "cell_type": "markdown",
   "metadata": {},
   "source": [
    "35. 搜索插入位置"
   ]
  },
  {
   "cell_type": "markdown",
   "metadata": {},
   "source": [
    "给定一个排序数组和一个目标值，在数组中找到目标值，并返回其索引。如果目标值不存在于数组中，返回它将会被按顺序插入的位置。\n",
    "\n",
    "你可以假设数组中无重复元素。\n",
    "\n",
    "示例 1:  \n",
    "输入: [1,3,5,6], 5  \n",
    "输出: 2  "
   ]
  },
  {
   "cell_type": "markdown",
   "metadata": {},
   "source": [
    "思路： \n",
    "循环判断即可  \n",
    "有几个特殊情况  \n",
    "1、小于nums[0]  \n",
    "2、大于nums[-1]  \n",
    "3、数组长度为1且刚好等于目标值  \n",
    "时间复杂度为O(n)，空间复杂度为O(1)  "
   ]
  },
  {
   "cell_type": "code",
   "execution_count": 4,
   "metadata": {},
   "outputs": [],
   "source": [
    "class Solution:\n",
    "    def searchInsert(self, nums, target):\n",
    "        if target < nums[0]or (len(nums) == 1 and target == nums[0]):  return 0\n",
    "        if target > nums[-1]: return len(nums)\n",
    "        for i in range(len(nums) - 1):\n",
    "            if nums[i] == target:\n",
    "                return i\n",
    "            elif nums[i] < target <= nums[i + 1]:\n",
    "                return i +  1"
   ]
  },
  {
   "cell_type": "markdown",
   "metadata": {},
   "source": [
    "202. 快乐数"
   ]
  },
  {
   "cell_type": "markdown",
   "metadata": {},
   "source": [
    "编写一个算法来判断一个数 n 是不是快乐数。\n",
    "\n",
    "「快乐数」定义为：对于一个正整数，每一次将该数替换为它每个位置上的数字的平方和，然后重复这个过程直到这个数变为 1，也可能是 无限循环 但始终变不到 1。如果 可以变为  1，那么这个数就是快乐数。\n",
    "\n",
    "如果 n 是快乐数就返回 True ；不是，则返回 False 。"
   ]
  },
  {
   "cell_type": "markdown",
   "metadata": {},
   "source": [
    "示例：\n",
    "\n",
    "输入：19\n",
    "输出：true\n",
    "解释：\n",
    "12 + 92 = 82\n",
    "82 + 22 = 68\n",
    "62 + 82 = 100\n",
    "12 + 02 + 02 = 1"
   ]
  },
  {
   "cell_type": "code",
   "execution_count": 5,
   "metadata": {},
   "outputs": [],
   "source": [
    "class Solution:\n",
    "    def isHappy(self, n):\n",
    "        not_happly_num_set = {0,1,4,16,37,58,89,145,42,20}\n",
    "\n",
    "        while not (n in not_happly_num_set):\n",
    "\n",
    "            res = 0\n",
    "            while n:\n",
    "                div,mod = divmod(n,10)\n",
    "                res = res + pow(mod,2)\n",
    "                n = div\n",
    "                \n",
    "            n = res\n",
    "        return 1  if n==1  else 0"
   ]
  },
  {
   "cell_type": "markdown",
   "metadata": {},
   "source": [
    "205. 同构字符串"
   ]
  },
  {
   "cell_type": "markdown",
   "metadata": {},
   "source": [
    "给定两个字符串 s 和 t，判断它们是否是同构的。\n",
    "\n",
    "如果 s 中的字符可以被替换得到 t ，那么这两个字符串是同构的。\n",
    "\n",
    "所有出现的字符都必须用另一个字符替换，同时保留字符的顺序。两个字符不能映射到同一个字符上，但字符可以映射自己本身。\n",
    "\n",
    "示例 1:"
   ]
  },
  {
   "cell_type": "markdown",
   "metadata": {},
   "source": [
    "输入: s = \"egg\", t = \"add\"  \n",
    "输出: true  "
   ]
  },
  {
   "cell_type": "markdown",
   "metadata": {},
   "source": [
    "思路：此处撰写解题思路\n",
    "主要判断每个索引相同，如果后面重复了，就直接索引到第一次出现的位置，仍应保持相同。\n"
   ]
  },
  {
   "cell_type": "code",
   "execution_count": 6,
   "metadata": {},
   "outputs": [],
   "source": [
    "class Solution:\n",
    "    def isIsomorphic(self, s: str, t: str) -> bool:\n",
    "        for i in range(len(s)):\n",
    "            if s.index(s[i]) != t.index(t[i]):\n",
    "                return False\n",
    "        return True "
   ]
  },
  {
   "cell_type": "markdown",
   "metadata": {},
   "source": [
    "242. 有效的字母异位词"
   ]
  },
  {
   "cell_type": "markdown",
   "metadata": {},
   "source": [
    "给定两个字符串 s 和 t ，编写一个函数来判断 t 是否是 s 的字母异位词。\n",
    "\n",
    "示例 1:\n",
    "\n",
    "输入: s = \"anagram\", t = \"nagaram\"\n",
    "输出: true"
   ]
  },
  {
   "cell_type": "markdown",
   "metadata": {},
   "source": [
    "思路：此处撰写解题思路把其中一项用集合set（无重复性质）遍历每个字母的个数，  \n",
    "如果每个都相等则为True，只要出现一次不等直接False结束。  "
   ]
  },
  {
   "cell_type": "code",
   "execution_count": 7,
   "metadata": {},
   "outputs": [],
   "source": [
    "class Solution:\n",
    "    def isAnagram(self, s: str, t: str):\n",
    "        if len(s) != len(t):\n",
    "            return False\n",
    "        set1 = set(s)\n",
    "        for i in set1:\n",
    "            if s.count(i) != t.count(i):\n",
    "                return False\n",
    "        return True"
   ]
  },
  {
   "cell_type": "markdown",
   "metadata": {},
   "source": [
    "290. 单词规律"
   ]
  },
  {
   "cell_type": "markdown",
   "metadata": {},
   "source": [
    "给定一种规律 pattern 和一个字符串 str ，判断 str 是否遵循相同的规律。\n",
    "\n",
    "这里的 遵循 指完全匹配，例如， pattern 里的每个字母和字符串 str 中的每个非空单词之间存在着双向连接的对应规律。\n",
    "\n",
    "示例1:\n",
    "\n",
    "输入: pattern = \"abba\", str = \"dog cat cat dog\"\n",
    "输出: true"
   ]
  },
  {
   "cell_type": "code",
   "execution_count": 8,
   "metadata": {},
   "outputs": [],
   "source": [
    "class Solution:\n",
    "    def wordPattern(self, pattern, str):\n",
    "        t = str.split()\n",
    "        if len(pattern) != len(t):\n",
    "            return False\n",
    "        dct = {}\n",
    "        for i in range(len(pattern)):\n",
    "            if pattern[i] not in dct:\n",
    "                if t[i] in dct.values():\n",
    "                    return False\n",
    "                dct[pattern[i]] = t[i]\n",
    "            else:\n",
    "                if dct[pattern[i]] != t[i]:\n",
    "                    return False\n",
    "        return True"
   ]
  },
  {
   "cell_type": "markdown",
   "metadata": {},
   "source": [
    "349. 两个数组的交集"
   ]
  },
  {
   "cell_type": "markdown",
   "metadata": {},
   "source": [
    "给定两个数组，编写一个函数来计算它们的交集。\n",
    "\n",
    "示例 1：  \n",
    "输入：nums1 = [1,2,2,1], nums2 = [2,2]\n",
    "输出：[2]"
   ]
  },
  {
   "cell_type": "markdown",
   "metadata": {},
   "source": [
    "思路：集合"
   ]
  },
  {
   "cell_type": "code",
   "execution_count": 12,
   "metadata": {},
   "outputs": [],
   "source": [
    "class Solution:\n",
    "    def intersection(self, nums1, nums2):\n",
    "        return set(nums1)&set(nums2)"
   ]
  },
  {
   "cell_type": "markdown",
   "metadata": {},
   "source": [
    "350. 两个数组的交集 II"
   ]
  },
  {
   "cell_type": "markdown",
   "metadata": {},
   "source": [
    "给定两个数组，编写一个函数来计算它们的交集。\n",
    "\n",
    "示例 1：\n",
    "\n",
    "输入：nums1 = [1,2,2,1], nums2 = [2,2]\n",
    "输出：[2,2]"
   ]
  },
  {
   "cell_type": "markdown",
   "metadata": {},
   "source": [
    "思路：哈希表"
   ]
  },
  {
   "cell_type": "code",
   "execution_count": 15,
   "metadata": {},
   "outputs": [],
   "source": [
    "class Solution:\n",
    "    def intersect(self, nums1, nums2):\n",
    "        dct1 = defaultdict(int)\n",
    "        for i in nums1:\n",
    "            dct1[i] += 1\n",
    "        dct2 = defaultdict(int)\n",
    "        for i in nums2:\n",
    "            dct2[i] += 1\n",
    "        dct3 = {i: min(dct1[i], dct2[i]) for i in set(dct1)&set(dct2)}\n",
    "        return sum([[key]*val for key, val in dct3.items()], [])"
   ]
  },
  {
   "cell_type": "markdown",
   "metadata": {},
   "source": [
    "410. 分割数组的最大值"
   ]
  },
  {
   "cell_type": "markdown",
   "metadata": {},
   "source": [
    "给定一个非负整数数组和一个整数 m，你需要将这个数组分成 m 个非空的连续子数组。设计一个算法使得这 m 个子数组各自和的最大值最小。\n",
    "\n",
    "注意:\n",
    "数组长度 n 满足以下条件:\n",
    "\n",
    "1 ≤ n ≤ 1000\n",
    "1 ≤ m ≤ min(50, n)\n",
    "示例:  \n",
    "输入:  \n",
    "nums = [7,2,5,10,8]\n",
    "m = 2\n",
    "\n",
    "输出:\n",
    "18\n"
   ]
  },
  {
   "cell_type": "markdown",
   "metadata": {},
   "source": [
    "思路：二分查找"
   ]
  },
  {
   "cell_type": "code",
   "execution_count": 17,
   "metadata": {},
   "outputs": [],
   "source": [
    "class Solution:\n",
    "    def splitArray(self, nums, m):\n",
    "        #二分查找\n",
    "\n",
    "        #指定二分查找范围\n",
    "        left, right = max(nums), sum(nums)\n",
    "\n",
    "        #定义 测试中点是大还是小的 测试函数\n",
    "        def test_mid(mid):\n",
    "            #初始化\n",
    "            num = 1 #num表示使用该mid我们会得到几个数组\n",
    "            s = 0 #s表示当前数组的和\n",
    "\n",
    "            for i in nums:\n",
    "                if s+i > mid: #如果当前数组已经超过mid，要停止这个数组\n",
    "                    s = i #这个数变为下一个数组的开头\n",
    "                    num += 1 #会得到的数组数量+1\n",
    "                else:\n",
    "                    s += i\n",
    "\n",
    "            return num > m"
   ]
  },
  {
   "cell_type": "markdown",
   "metadata": {},
   "source": [
    "451. 根据字符出现频率排序"
   ]
  },
  {
   "cell_type": "markdown",
   "metadata": {},
   "source": [
    "给定一个字符串，请将字符串里的字符按照出现的频率降序排列。  \n",
    "\n",
    "示例 1:  \n",
    "\n",
    "输入:  \n",
    "\"tree\" \n",
    "\n",
    "输出:  \n",
    "\"eert\"  "
   ]
  },
  {
   "cell_type": "code",
   "execution_count": 18,
   "metadata": {},
   "outputs": [],
   "source": [
    "class Solution:\n",
    "    def frequencySort(self, s):\n",
    "        # 桶排序\n",
    "        ret = []\n",
    "        countFrequency = collections.defaultdict(int)\n",
    "        for i in s:\n",
    "            countFrequency[i] += 1\n",
    "        buckets = [[] for _ in range(len(s) + 1)]\n",
    "        for i in countFrequency:\n",
    "            buckets[countFrequency[i]].extend(i*countFrequency[i])\n",
    "        for i in buckets[::-1]:\n",
    "            if(i):\n",
    "                ret.extend(i)\n",
    "        return ''.join(ret)"
   ]
  },
  {
   "cell_type": "markdown",
   "metadata": {},
   "source": [
    "540. 有序数组中的单一元素"
   ]
  },
  {
   "cell_type": "markdown",
   "metadata": {},
   "source": [
    "给定一个只包含整数的有序数组，每个元素都会出现两次，唯有一个数只会出现一次，找出这个数。\n",
    "\n",
    "示例 1:  \n",
    "\n",
    "输入: [1,1,2,3,3,4,4,8,8]  \n",
    "输出: 2  \n",
    " "
   ]
  },
  {
   "cell_type": "markdown",
   "metadata": {},
   "source": [
    "方法：二分查找"
   ]
  },
  {
   "cell_type": "code",
   "execution_count": 22,
   "metadata": {},
   "outputs": [],
   "source": [
    "class Solution:\n",
    "    def singleNonDuplicate(self, nums):\n",
    "        if len(nums) == 1:\n",
    "            return nums[0]\n",
    "        left = 0\n",
    "        right = len(nums)-1\n",
    "        while left <= right:\n",
    "            mid = (left + right) // 2\n",
    "            if mid % 2 == 0 and mid + 1 < len(nums): \n",
    "                if nums[mid] == nums[mid+1]:  \n",
    "                    left = mid + 1\n",
    "                else:   # mid前面有单一元素\n",
    "                    right = mid - 1\n",
    "            elif mid % 2 != 0 and mid + 1 < len(nums): \n",
    "                if nums[mid] == nums[mid+1]:  \n",
    "                    right = mid - 1\n",
    "                else:  \n",
    "                    left = mid + 1\n",
    "            else:\n",
    "                return nums[mid]\n",
    "        return nums[left]"
   ]
  }
 ],
 "metadata": {
  "kernelspec": {
   "display_name": "Python 3",
   "language": "python",
   "name": "python3"
  },
  "language_info": {
   "codemirror_mode": {
    "name": "ipython",
    "version": 3
   },
   "file_extension": ".py",
   "mimetype": "text/x-python",
   "name": "python",
   "nbconvert_exporter": "python",
   "pygments_lexer": "ipython3",
   "version": "3.6.5"
  }
 },
 "nbformat": 4,
 "nbformat_minor": 2
}
